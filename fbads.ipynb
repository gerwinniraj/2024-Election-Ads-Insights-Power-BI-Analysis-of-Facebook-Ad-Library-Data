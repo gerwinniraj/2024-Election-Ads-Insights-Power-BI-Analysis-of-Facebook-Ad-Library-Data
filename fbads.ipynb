{
  "nbformat": 4,
  "nbformat_minor": 0,
  "metadata": {
    "colab": {
      "provenance": []
    },
    "kernelspec": {
      "name": "python3",
      "display_name": "Python 3"
    },
    "language_info": {
      "name": "python"
    }
  },
  "cells": [
    {
      "cell_type": "code",
      "source": [
        "import requests\n",
        "\n",
        "\n",
        "access_token = '#access-token#'\n",
        "ad_library_url = 'https://graph.facebook.com/v17.0/ads_archive'\n",
        "\n",
        "params = {\n",
        "    'access_token': access_token,\n",
        "    'search_terms': 'Election-2024',\n",
        "    'ad_type': 'POLITICAL_AND_ISSUE_ADS',\n",
        "    'ad_reached_countries': 'IN',\n",
        "\n",
        "}\n",
        "\n",
        "# Making the GET request\n",
        "response = requests.get(ad_library_url, params=params)\n",
        "\n",
        "# Handling the response\n",
        "if response.status_code == 200:\n",
        "    data = response.json()\n",
        "    print(data)\n",
        "else:\n",
        "    print(f\"Error: {response.status_code}\")\n",
        "    print(response.json())\n"
      ],
      "metadata": {
        "id": "UiPFD96rZwJt"
      },
      "execution_count": null,
      "outputs": []
    },
    {
      "cell_type": "code",
      "source": [
        "import pandas as pd\n",
        "from openpyxl import load_workbook\n"
      ],
      "metadata": {
        "id": "CiNXWVtaMXrw"
      },
      "execution_count": 1,
      "outputs": []
    },
    {
      "cell_type": "code",
      "source": [
        "df = pd.json_normalize(data['data'])\n",
        "\n",
        "excel_file = 'ED.xlsx'\n",
        "\n",
        "try:\n",
        "    with pd.ExcelWriter(excel_file, engine='openpyxl', mode='a', if_sheet_exists='overlay') as writer:\n",
        "        writer.book = load_workbook(excel_file)\n",
        "\n",
        "        writer.sheets = {ws.title: ws for ws in writer.book.worksheets}\n",
        "        sheet = writer.sheets['Sheet1']\n",
        "\n",
        "        startrow = sheet.max_row\n",
        "\n",
        "        df.to_excel(writer, index=False, header=False, startrow=startrow)\n",
        "except FileNotFoundError:\n",
        "    df.to_excel(excel_file, index=False)\n"
      ],
      "metadata": {
        "id": "B4KdQ70bsX2X"
      },
      "execution_count": null,
      "outputs": []
    }
  ]
}